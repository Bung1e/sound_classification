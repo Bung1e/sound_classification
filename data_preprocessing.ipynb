{
 "cells": [
  {
   "cell_type": "code",
   "execution_count": 1,
   "metadata": {},
   "outputs": [],
   "source": [
    "import pandas as pd\n",
    "import librosa \n",
    "from sklearn.metrics import confusion_matrix, accuracy_score, roc_auc_score, roc_curve\n",
    "from sklearn.model_selection import train_test_split\n",
    "import pandas as pd\n",
    "import numpy as np\n",
    "from sklearn.model_selection import train_test_split\n",
    "from sklearn.preprocessing import LabelEncoder, StandardScaler\n",
    "from keras.models import Sequential\n",
    "from keras.layers import Conv2D, MaxPooling2D, Flatten, Dense, Dropout\n",
    "from keras.optimizers import Adam\n",
    "from keras.utils import to_categorical\n",
    "import tensorflow as tf\n",
    "from keras.regularizers import l2\n"
   ]
  },
  {
   "cell_type": "code",
   "execution_count": 2,
   "metadata": {},
   "outputs": [],
   "source": [
    "data = pd.read_csv('Data/features_30_sec.csv')\n",
    "data = data.drop(labels=['filename', 'length'], axis=1)\n",
    "\n",
    "# X = data.drop('label', axis=1)\n",
    "# y = data['label']\n",
    "\n",
    "class_list = data.iloc[:, -1]\n",
    "convertor = LabelEncoder()\n",
    "y = convertor.fit_transform(class_list)\n",
    "\n",
    "fit = StandardScaler()\n",
    "X = fit.fit_transform(np.array(data.iloc[:, :-1], dtype=float))\n",
    "\n",
    "X_train, X_test, y_train, y_test = train_test_split(X, y, test_size=0.3, random_state=42)\n",
    "\n",
    "\n",
    "def trainModel(model, epochs, optimizer):\n",
    "    batch_size = 128\n",
    "    model.compile(optimizer=optimizer, \n",
    "                  loss='sparse_categorical_crossentropy', \n",
    "                  metrics=['accuracy'])\n",
    "    return model.fit(X_train, y_train, \n",
    "                     validation_data=(X_test, y_test), \n",
    "                     epochs=epochs, \n",
    "                     batch_size=batch_size)\n",
    "\n",
    "def plotValidate(history):\n",
    "    print(\"Validation Accuracy:\", max(history.history['val_accuracy']))\n",
    "    pd.DataFrame(history.history).plot(figsize=(12,6))\n",
    "    plt.show()\n",
    "\n",
    "model = Sequential([\n",
    "    Dense(512, activation='relu', input_shape=(X_train.shape[1],)),\n",
    "    Dropout(0.2),\n",
    "    Dense(256, activation='relu'),\n",
    "    Dropout(0.2),\n",
    "    Dense(128, activation='relu'),\n",
    "    Dropout(0.2),\n",
    "    Dense(64, activation='relu'),\n",
    "    Dropout(0.2),\n",
    "    Dense(10, activation='softmax'),\n",
    "])\n",
    "\n",
    "print(model.summary())\n",
    "model_history = trainModel(model=model, epochs=600, optimizer='adam')\n",
    "plotValidate(model_history)\n",
    "\n"
   ]
  },
  {
   "cell_type": "code",
   "execution_count": 3,
   "metadata": {},
   "outputs": [],
   "source": [
    "model.save('genre_classification_model.h5')\n",
    "\n",
    "model.save_weights('genre_classification.weights.h5')"
   ]
  },
  {
   "cell_type": "code",
   "execution_count": 6,
   "metadata": {},
   "outputs": [
    {
     "name": "stderr",
     "output_type": "stream",
     "text": [
      "<>:4: SyntaxWarning: invalid escape sequence '\\g'\n",
      "<>:4: SyntaxWarning: invalid escape sequence '\\g'\n",
      "C:\\Users\\Alex\\AppData\\Local\\Temp\\ipykernel_17896\\1137310181.py:4: SyntaxWarning: invalid escape sequence '\\g'\n",
      "  new_data = extract_features('Data\\genres_original\\classical\\classical.00000.wav')\n",
      "WARNING:absl:Compiled the loaded model, but the compiled metrics have yet to be built. `model.compile_metrics` will be empty until you train or evaluate the model.\n"
     ]
    },
    {
     "name": "stdout",
     "output_type": "stream",
     "text": [
      "\u001b[1m1/1\u001b[0m \u001b[32m━━━━━━━━━━━━━━━━━━━━\u001b[0m\u001b[37m\u001b[0m \u001b[1m0s\u001b[0m 51ms/step\n",
      "Predicted class: [9]\n"
     ]
    },
    {
     "name": "stderr",
     "output_type": "stream",
     "text": [
      "c:\\Users\\Alex\\AppData\\Local\\Programs\\Python\\Python312\\Lib\\site-packages\\keras\\src\\saving\\saving_lib.py:396: UserWarning: Skipping variable loading for optimizer 'adam', because it has 2 variables whereas the saved optimizer has 22 variables. \n",
      "  trackable.load_own_variables(weights_store.get(inner_path))\n"
     ]
    }
   ],
   "source": [
    "from keras.models import load_model\n",
    "from features_extraction import extract_features\n",
    "\n",
    "new_data = extract_features('Data\\genres_original\\classical\\classical.00000.wav')\n",
    "\n",
    "new_song_df = pd.DataFrame([new_data])\n",
    "\n",
    "new_song_scaled = fit.transform(new_song_df)\n",
    "\n",
    "model = load_model('genre_classification_model.h5')\n",
    "model.load_weights('genre_classification.weights.h5')\n",
    "\n",
    "predictions = model.predict(new_song_scaled)\n",
    "\n",
    "predicted_class = np.argmax(predictions, axis=1)\n",
    "print(\"Predicted class:\", predicted_class)"
   ]
  },
  {
   "cell_type": "code",
   "execution_count": null,
   "metadata": {},
   "outputs": [],
   "source": []
  },
  {
   "cell_type": "code",
   "execution_count": null,
   "metadata": {},
   "outputs": [],
   "source": []
  }
 ],
 "metadata": {
  "kernelspec": {
   "display_name": "Python 3",
   "language": "python",
   "name": "python3"
  },
  "language_info": {
   "codemirror_mode": {
    "name": "ipython",
    "version": 3
   },
   "file_extension": ".py",
   "mimetype": "text/x-python",
   "name": "python",
   "nbconvert_exporter": "python",
   "pygments_lexer": "ipython3",
   "version": "3.12.2"
  }
 },
 "nbformat": 4,
 "nbformat_minor": 2
}

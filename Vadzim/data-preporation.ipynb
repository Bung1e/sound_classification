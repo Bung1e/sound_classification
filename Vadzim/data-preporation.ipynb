{
 "cells": [],
 "metadata": {
  "kernelspec": {
   "display_name": "Python 3.10.11 ('deeplearning')",
   "language": "python",
   "name": "python3"
  },
  "language_info": {
   "name": "python",
   "version": "3.10.11"
  },
  "orig_nbformat": 4,
  "vscode": {
   "interpreter": {
    "hash": "c7d0234ca1bd4a04531a7a1e3cb5002fc39ff6fcec1950692489d6b26e351aa9"
   }
  }
 },
 "nbformat": 4,
 "nbformat_minor": 2
}
